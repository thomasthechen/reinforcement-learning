{
 "cells": [
  {
   "cell_type": "markdown",
   "metadata": {
    "collapsed": true
   },
   "source": [
    "### This is Example 4.3. Gambler’s Problem from Sutton's book.\n",
    "\n",
    "A gambler has the opportunity to make bets on the outcomes of a sequence of coin flips. \n",
    "If the coin comes up heads, he wins as many dollars as he has staked on that flip; \n",
    "if it is tails, he loses his stake. The game ends when the gambler wins by reaching his goal of $100, \n",
    "or loses by running out of money. \n",
    "\n",
    "On each flip, the gambler must decide what portion of his capital to stake, in integer numbers of dollars. \n",
    "This problem can be formulated as an undiscounted, episodic, finite MDP. \n",
    "\n",
    "The state is the gambler’s capital, s ∈ {1, 2, . . . , 99}.\n",
    "The actions are stakes, a ∈ {0, 1, . . . , min(s, 100 − s)}. \n",
    "The reward is zero on all transitions except those on which the gambler reaches his goal, when it is +1.\n",
    "\n",
    "The state-value function then gives the probability of winning from each state. A policy is a mapping from levels of capital to stakes. The optimal policy maximizes the probability of reaching the goal. Let p_h denote the probability of the coin coming up heads. If p_h is known, then the entire problem is known and it can be solved, for instance, by value iteration.\n"
   ]
  },
  {
   "cell_type": "code",
   "execution_count": 44,
   "metadata": {},
   "outputs": [],
   "source": [
    "import numpy as np\n",
    "import sys\n",
    "import matplotlib.pyplot as plt\n",
    "if \"../\" not in sys.path:\n",
    "  sys.path.append(\"../\") "
   ]
  },
  {
   "cell_type": "markdown",
   "metadata": {
    "collapsed": true
   },
   "source": [
    "\n",
    "### Exercise 4.9 (programming)\n",
    "\n",
    "Implement value iteration for the gambler’s problem and solve it for p_h = 0.25 and p_h = 0.55.\n",
    "\n"
   ]
  },
  {
   "cell_type": "code",
   "execution_count": 163,
   "metadata": {},
   "outputs": [],
   "source": [
    "def value_iteration_for_gamblers(p_h, theta=0.0001, discount_factor=1.0):\n",
    "    \"\"\"\n",
    "   NEVER UPDATE STATE 0, NEVER HAVE ACTION BET 0\n",
    "   num iter can't be too high ig\n",
    "    \"\"\"\n",
    "    rewards = np.zeros(101)\n",
    "    rewards[100] = 1 \n",
    "    V = np.zeros(101)\n",
    "    \n",
    "    def one_step_lookahead(s, V, rewards):    \n",
    "        # Implement!\n",
    "        A = np.zeros(1+min(s, 100-s))\n",
    "        for i in range(1,len(A)):\n",
    "            A[i] = p_h * (rewards[s+i] + discount_factor * V[s+i]) + (1-p_h) * (rewards[s-i] + discount_factor * V[s-i])\n",
    "        return A\n",
    "    \n",
    "    for iter in range(7):\n",
    "        for i in range(1, 100):\n",
    "            actions = one_step_lookahead(i, V, rewards)\n",
    "            best = np.max(actions)\n",
    "            V[i] = best\n",
    "    \n",
    "    policy = np.zeros(101)\n",
    "    for i in range(1, 100):\n",
    "        A = one_step_lookahead(i, V, rewards)\n",
    "        policy[i] = np.argmax(A)\n",
    "    \n",
    "    return policy, V"
   ]
  },
  {
   "cell_type": "code",
   "execution_count": 164,
   "metadata": {},
   "outputs": [
    {
     "name": "stdout",
     "output_type": "stream",
     "text": [
      "Optimized Policy:\n",
      "[ 0.  1.  2.  3.  4.  5.  6.  7.  8.  9. 10. 11. 12. 13. 14. 15. 16. 17.\n",
      " 18. 19. 20. 21. 22. 23. 24. 25. 26. 27. 28. 29. 30. 31. 32. 33. 34. 35.\n",
      " 36. 37. 38. 39. 40. 41. 42. 43. 44. 45. 46. 47. 48. 49. 25. 26. 27. 28.\n",
      " 29. 30. 31. 32. 33. 34. 35. 36. 37.  1. 14. 15. 16. 17. 18. 19. 20. 21.\n",
      " 22. 23. 24. 25.  2.  4.  3.  4. 18.  6.  7.  8.  9. 10. 11. 12.  1.  2.\n",
      "  9.  4.  5.  6.  5.  4.  3.  1.  2.  1.  0.]\n",
      "\n",
      "Optimized Value Function:\n",
      "[0.         0.0078125  0.01953125 0.02999878 0.03997803 0.04999924\n",
      " 0.05999947 0.06999969 0.07999992 0.08999991 0.0999999  0.1099999\n",
      " 0.11999997 0.12999988 0.13999999 0.14999998 0.15999997 0.16999999\n",
      " 0.17999998 0.18999997 0.19999999 0.20999999 0.21999998 0.23\n",
      " 0.24       0.25       0.25999999 0.26999999 0.28       0.29\n",
      " 0.3        0.31       0.32       0.33       0.34       0.35\n",
      " 0.36       0.37       0.38       0.39       0.4        0.41\n",
      " 0.42       0.43       0.44       0.45       0.46       0.47\n",
      " 0.48       0.49       0.5        0.51       0.52       0.53\n",
      " 0.54       0.55       0.56       0.57       0.58       0.59\n",
      " 0.6        0.61       0.62       0.63       0.64       0.65\n",
      " 0.66       0.67       0.68       0.69       0.7        0.71\n",
      " 0.72       0.73       0.74       0.75       0.76       0.77\n",
      " 0.78       0.79       0.8        0.81       0.82       0.83\n",
      " 0.84       0.85       0.86       0.87       0.88       0.89\n",
      " 0.9        0.91       0.92       0.93       0.94       0.95\n",
      " 0.96       0.97       0.98       0.99       0.        ]\n",
      "\n"
     ]
    }
   ],
   "source": [
    "policy, v = value_iteration_for_gamblers(0.5)\n",
    "\n",
    "print(\"Optimized Policy:\")\n",
    "print(policy)\n",
    "print(\"\")\n",
    "\n",
    "print(\"Optimized Value Function:\")\n",
    "print(v)\n",
    "print(\"\")"
   ]
  },
  {
   "cell_type": "code",
   "execution_count": 165,
   "metadata": {},
   "outputs": [
    {
     "data": {
      "text/plain": [
       "[<matplotlib.lines.Line2D at 0x7fe805368780>]"
      ]
     },
     "execution_count": 165,
     "metadata": {},
     "output_type": "execute_result"
    },
    {
     "data": {
      "image/png": "[encoded data removed]",
      "text/plain": [
       "<Figure size 432x288 with 1 Axes>"
      ]
     },
     "metadata": {
      "needs_background": "light"
     },
     "output_type": "display_data"
    }
   ],
   "source": [
    "# Plotting Final Policy (action stake) vs State (Capital)\n",
    "\n",
    "# Implement!\n",
    "x = np.arange(101)\n",
    "plt.plot(x, v)"
   ]
  },
  {
   "cell_type": "code",
   "execution_count": 166,
   "metadata": {},
   "outputs": [
    {
     "data": {
      "text/plain": [
       "[<matplotlib.lines.Line2D at 0x7fe80568a160>]"
      ]
     },
     "execution_count": 166,
     "metadata": {},
     "output_type": "execute_result"
    },
    {
     "data": {
      "image/png": "[encoded data removed]",
      "text/plain": [
       "<Figure size 432x288 with 1 Axes>"
      ]
     },
     "metadata": {
      "needs_background": "light"
     },
     "output_type": "display_data"
    }
   ],
   "source": [
    "# Plotting Capital vs Final Policy\n",
    "\n",
    "plt.plot(x, policy)\n"
   ]
  },
  {
   "cell_type": "code",
   "execution_count": null,
   "metadata": {},
   "outputs": [],
   "source": []
  },
  {
   "cell_type": "code",
   "execution_count": null,
   "metadata": {},
   "outputs": [],
   "source": []
  }
 ],
 "metadata": {
  "kernelspec": {
   "display_name": "Python 3",
   "language": "python",
   "name": "python3"
  },
  "language_info": {
   "codemirror_mode": {
    "name": "ipython",
    "version": 3
   },
   "file_extension": ".py",
   "mimetype": "text/x-python",
   "name": "python",
   "nbconvert_exporter": "python",
   "pygments_lexer": "ipython3",
   "version": "3.6.9"
  }
 },
 "nbformat": 4,
 "nbformat_minor": 1
}
